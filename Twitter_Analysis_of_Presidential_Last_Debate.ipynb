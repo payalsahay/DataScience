{
  "nbformat": 4,
  "nbformat_minor": 0,
  "metadata": {
    "colab": {
      "name": "Twitter Analysis of Presidential Last Debate.ipynb",
      "provenance": [],
      "collapsed_sections": [],
      "authorship_tag": "ABX9TyN4j4fhf1VUljsg3R16rzYB"
    },
    "kernelspec": {
      "name": "python3",
      "display_name": "Python 3"
    }
  },
  "cells": [
    {
      "cell_type": "code",
      "metadata": {
        "id": "ZcQOhvs_SZ3E"
      },
      "source": [
        "#Import All relevant Packages\n",
        "import tweepy\n",
        "from textblob import TextBlob\n",
        "from wordcloud import WordCloud\n",
        "import pandas as pd\n",
        "import numpy as np\n",
        "import re\n"
      ],
      "execution_count": 63,
      "outputs": []
    },
    {
      "cell_type": "code",
      "metadata": {
        "id": "-Z2MR3_CScE-"
      },
      "source": [
        "accesstoken=\"xxxx\"\n",
        "\n",
        "accesstokensecret=\"xxxx\"\n",
        "\n",
        "apikey=\"xxxx\"\n",
        "\n",
        "apisecretkey=\"xxxx\""
      ],
      "execution_count": 64,
      "outputs": []
    },
    {
      "cell_type": "code",
      "metadata": {
        "id": "UNAmV036SetN"
      },
      "source": [
        "\n",
        "authenticate = tweepy.OAuthHandler(apikey,apisecretkey)\n",
        "authenticate.set_access_token(accesstoken,accesstokensecret)"
      ],
      "execution_count": 65,
      "outputs": []
    },
    {
      "cell_type": "code",
      "metadata": {
        "id": "uMx8ngGDShjf"
      },
      "source": [
        "api = tweepy.API(authenticate,wait_on_rate_limit=True)"
      ],
      "execution_count": 66,
      "outputs": []
    },
    {
      "cell_type": "code",
      "metadata": {
        "id": "H9LmzFaPkwA0"
      },
      "source": [
        "#Function to get the Tweets\n",
        "def get_tweets(query, maxTweets = 1000): \n",
        "        # empty list to store parsed tweets \n",
        "        tweets = [] \n",
        "        sinceId = None\n",
        "        max_id = -1\n",
        "        tweetCount = 0\n",
        "        tweetsPerQry = 100\n",
        "        \n",
        "        while tweetCount < maxTweets:\n",
        "            if (max_id <= 0):\n",
        "                  if (not sinceId):\n",
        "                      new_tweets = api.search(q=query, count=tweetsPerQry)\n",
        "                  else:\n",
        "                      new_tweets = api.search(q=query, count=tweetsPerQry,\n",
        "                                                since_id=sinceId)\n",
        "            else:\n",
        "                  if (not sinceId):\n",
        "                      new_tweets = api.search(q=query, count=tweetsPerQry,\n",
        "                                                max_id=str(max_id - 1))\n",
        "                  else:\n",
        "                      new_tweets = self.api.search(q=query, count=tweetsPerQry,\n",
        "                                                max_id=str(max_id - 1),\n",
        "                                                since_id=sinceId)\n",
        "            if not new_tweets:\n",
        "                print(\"No more tweets found\")\n",
        "                break\n",
        "                    \n",
        "            for tweet in new_tweets:\n",
        "                parsed_tweet = {} \n",
        "                parsed_tweet['tweets'] = tweet.text \n",
        "\n",
        "                    # appending parsed tweet to tweets list \n",
        "                if tweet.retweet_count > 0: \n",
        "                        # if tweet has retweets, ensure that it is appended only once \n",
        "                  if parsed_tweet not in tweets: \n",
        "                    tweets.append(parsed_tweet) \n",
        "                  else: \n",
        "                    tweets.append(parsed_tweet) \n",
        "                        \n",
        "            tweetCount += len(new_tweets)\n",
        "        return tweets"
      ],
      "execution_count": 67,
      "outputs": []
    },
    {
      "cell_type": "code",
      "metadata": {
        "id": "vDJ3UYGzlahw"
      },
      "source": [
        "get_tweets(\"Last Debate\")"
      ],
      "execution_count": null,
      "outputs": []
    },
    {
      "cell_type": "code",
      "metadata": {
        "id": "6v9yoVJ3lan_"
      },
      "source": [
        "post = get_tweets(\"Last Debate\")"
      ],
      "execution_count": 68,
      "outputs": []
    },
    {
      "cell_type": "code",
      "metadata": {
        "id": "ckDJsKqAnIiw",
        "outputId": "2d7ccf02-7976-4282-bdc5-1cbc31318fe1",
        "colab": {
          "base_uri": "https://localhost:8080/",
          "height": 34
        }
      },
      "source": [
        "len(post)"
      ],
      "execution_count": 69,
      "outputs": [
        {
          "output_type": "execute_result",
          "data": {
            "text/plain": [
              "908"
            ]
          },
          "metadata": {
            "tags": []
          },
          "execution_count": 69
        }
      ]
    },
    {
      "cell_type": "code",
      "metadata": {
        "id": "f3ZsxlXOmnu1"
      },
      "source": [
        "#Get in a List\n",
        "t = []\n",
        "for i in range(0,len(post)):\n",
        "  t.append(post[i]['tweets'])\n",
        "  "
      ],
      "execution_count": 70,
      "outputs": []
    },
    {
      "cell_type": "code",
      "metadata": {
        "id": "D86LeUm6laOw"
      },
      "source": [
        "df_tweet = pd.DataFrame([i for i in t],columns=['Tweet'])"
      ],
      "execution_count": 71,
      "outputs": []
    },
    {
      "cell_type": "code",
      "metadata": {
        "id": "GR7NoHwdpgCv",
        "outputId": "5219335c-b39e-4588-f4ca-5c54031cc68a",
        "colab": {
          "base_uri": "https://localhost:8080/",
          "height": 402
        }
      },
      "source": [
        "df_tweet"
      ],
      "execution_count": 72,
      "outputs": [
        {
          "output_type": "execute_result",
          "data": {
            "text/html": [
              "<div>\n",
              "<style scoped>\n",
              "    .dataframe tbody tr th:only-of-type {\n",
              "        vertical-align: middle;\n",
              "    }\n",
              "\n",
              "    .dataframe tbody tr th {\n",
              "        vertical-align: top;\n",
              "    }\n",
              "\n",
              "    .dataframe thead th {\n",
              "        text-align: right;\n",
              "    }\n",
              "</style>\n",
              "<table border=\"1\" class=\"dataframe\">\n",
              "  <thead>\n",
              "    <tr style=\"text-align: right;\">\n",
              "      <th></th>\n",
              "      <th>Tweet</th>\n",
              "    </tr>\n",
              "  </thead>\n",
              "  <tbody>\n",
              "    <tr>\n",
              "      <th>0</th>\n",
              "      <td>RT @StephenAtHome: Last night, it was so refre...</td>\n",
              "    </tr>\n",
              "    <tr>\n",
              "      <th>1</th>\n",
              "      <td>RT @realDonaldTrump: Joe Biden was very disres...</td>\n",
              "    </tr>\n",
              "    <tr>\n",
              "      <th>2</th>\n",
              "      <td>RT @UROCKlive1: I've seen WAY too much video o...</td>\n",
              "    </tr>\n",
              "    <tr>\n",
              "      <th>3</th>\n",
              "      <td>RT @ScottBaio: Why wasn't #HunterBiden at the ...</td>\n",
              "    </tr>\n",
              "    <tr>\n",
              "      <th>4</th>\n",
              "      <td>RT @KamalaHarris: Just last ​month,​ Donald Tr...</td>\n",
              "    </tr>\n",
              "    <tr>\n",
              "      <th>...</th>\n",
              "      <td>...</td>\n",
              "    </tr>\n",
              "    <tr>\n",
              "      <th>903</th>\n",
              "      <td>RT @BuzzFeedNews: On today's episode of @NewsO...</td>\n",
              "    </tr>\n",
              "    <tr>\n",
              "      <th>904</th>\n",
              "      <td>RT @VickyPJWard: “Donald Trump's more sedate d...</td>\n",
              "    </tr>\n",
              "    <tr>\n",
              "      <th>905</th>\n",
              "      <td>RT @TheOfficerTatum: Who won last night's debate?</td>\n",
              "    </tr>\n",
              "    <tr>\n",
              "      <th>906</th>\n",
              "      <td>RT @UROCKlive1: I've seen WAY too much video o...</td>\n",
              "    </tr>\n",
              "    <tr>\n",
              "      <th>907</th>\n",
              "      <td>RT @realDonaldTrump: Joe Biden was very disres...</td>\n",
              "    </tr>\n",
              "  </tbody>\n",
              "</table>\n",
              "<p>908 rows × 1 columns</p>\n",
              "</div>"
            ],
            "text/plain": [
              "                                                 Tweet\n",
              "0    RT @StephenAtHome: Last night, it was so refre...\n",
              "1    RT @realDonaldTrump: Joe Biden was very disres...\n",
              "2    RT @UROCKlive1: I've seen WAY too much video o...\n",
              "3    RT @ScottBaio: Why wasn't #HunterBiden at the ...\n",
              "4    RT @KamalaHarris: Just last ​month,​ Donald Tr...\n",
              "..                                                 ...\n",
              "903  RT @BuzzFeedNews: On today's episode of @NewsO...\n",
              "904  RT @VickyPJWard: “Donald Trump's more sedate d...\n",
              "905  RT @TheOfficerTatum: Who won last night's debate?\n",
              "906  RT @UROCKlive1: I've seen WAY too much video o...\n",
              "907  RT @realDonaldTrump: Joe Biden was very disres...\n",
              "\n",
              "[908 rows x 1 columns]"
            ]
          },
          "metadata": {
            "tags": []
          },
          "execution_count": 72
        }
      ]
    },
    {
      "cell_type": "code",
      "metadata": {
        "id": "JtQL489fpiEN",
        "outputId": "7d49227e-d13b-4223-a3e9-eb2dfb2ccd7b",
        "colab": {
          "base_uri": "https://localhost:8080/",
          "height": 101
        }
      },
      "source": [
        "##text cleaning\n",
        "import nltk\n",
        "from nltk import word_tokenize\n",
        "from nltk.corpus import stopwords\n",
        "nltk.download('stopwords')\n",
        "nltk.download('punkt')"
      ],
      "execution_count": 73,
      "outputs": [
        {
          "output_type": "stream",
          "text": [
            "[nltk_data] Downloading package stopwords to /root/nltk_data...\n",
            "[nltk_data]   Package stopwords is already up-to-date!\n",
            "[nltk_data] Downloading package punkt to /root/nltk_data...\n",
            "[nltk_data]   Package punkt is already up-to-date!\n"
          ],
          "name": "stdout"
        },
        {
          "output_type": "execute_result",
          "data": {
            "text/plain": [
              "True"
            ]
          },
          "metadata": {
            "tags": []
          },
          "execution_count": 73
        }
      ]
    },
    {
      "cell_type": "code",
      "metadata": {
        "id": "kLCEQh_YvA7X"
      },
      "source": [
        "def clean_text(text):\n",
        "  stop_words = stopwords.words('english')\n",
        "  stop_words.extend(['last','night','debate','presidential','biden','trump'])\n",
        "  text = re.sub(r'@[a-zA-Z0-9]+','',text)\n",
        "   #removed @\n",
        "  text = re.sub(r'#','',text)\n",
        "  text = re.sub(r'\\.','',text)\n",
        "  text = re.sub(r':','',text)\n",
        "  text = re.sub(r'RT[\\s]+','',text)\n",
        "  text = re.sub(r'https?:\\/\\/\\S+','',text)\n",
        "  filtered_sentence = [word.lower() for word in nltk.word_tokenize(text) if  word not in set(stop_words)]\n",
        "  return \" \".join(filtered_sentence)\n",
        "  return text"
      ],
      "execution_count": 90,
      "outputs": []
    },
    {
      "cell_type": "code",
      "metadata": {
        "id": "bXXgky8-tNG5"
      },
      "source": [
        "df_tweet['Tweet'] = df_tweet['Tweet'].apply(clean_text)"
      ],
      "execution_count": 77,
      "outputs": []
    },
    {
      "cell_type": "code",
      "metadata": {
        "id": "64rwjCzZvkjq",
        "outputId": "009647ca-a5fa-41a3-f7ff-911321260a87",
        "colab": {
          "base_uri": "https://localhost:8080/",
          "height": 402
        }
      },
      "source": [
        "df_tweet"
      ],
      "execution_count": 78,
      "outputs": [
        {
          "output_type": "execute_result",
          "data": {
            "text/html": [
              "<div>\n",
              "<style scoped>\n",
              "    .dataframe tbody tr th:only-of-type {\n",
              "        vertical-align: middle;\n",
              "    }\n",
              "\n",
              "    .dataframe tbody tr th {\n",
              "        vertical-align: top;\n",
              "    }\n",
              "\n",
              "    .dataframe thead th {\n",
              "        text-align: right;\n",
              "    }\n",
              "</style>\n",
              "<table border=\"1\" class=\"dataframe\">\n",
              "  <thead>\n",
              "    <tr style=\"text-align: right;\">\n",
              "      <th></th>\n",
              "      <th>Tweet</th>\n",
              "    </tr>\n",
              "  </thead>\n",
              "  <tbody>\n",
              "    <tr>\n",
              "      <th>0</th>\n",
              "      <td>last night , refreshing see actual next year ,...</td>\n",
              "    </tr>\n",
              "    <tr>\n",
              "      <th>1</th>\n",
              "      <td>joe biden disrespectful president obama night ...</td>\n",
              "    </tr>\n",
              "    <tr>\n",
              "      <th>2</th>\n",
              "      <td>i 've seen way much video trump night , one pl...</td>\n",
              "    </tr>\n",
              "    <tr>\n",
              "      <th>3</th>\n",
              "      <td>why n't hunterbiden night support dad ? 🤔</td>\n",
              "    </tr>\n",
              "    <tr>\n",
              "      <th>4</th>\n",
              "      <td>just ​month , ​ donald trump stood a​ stage ​a...</td>\n",
              "    </tr>\n",
              "    <tr>\n",
              "      <th>...</th>\n",
              "      <td>...</td>\n",
              "    </tr>\n",
              "    <tr>\n",
              "      <th>903</th>\n",
              "      <td>on today 's episode , stop discuss night 's mi...</td>\n",
              "    </tr>\n",
              "    <tr>\n",
              "      <th>904</th>\n",
              "      <td>“ donald trump 's sedate performance thursday ...</td>\n",
              "    </tr>\n",
              "    <tr>\n",
              "      <th>905</th>\n",
              "      <td>who night 's ?</td>\n",
              "    </tr>\n",
              "    <tr>\n",
              "      <th>906</th>\n",
              "      <td>i 've seen way much video trump night , one pl...</td>\n",
              "    </tr>\n",
              "    <tr>\n",
              "      <th>907</th>\n",
              "      <td>joe biden disrespectful president obama night ...</td>\n",
              "    </tr>\n",
              "  </tbody>\n",
              "</table>\n",
              "<p>908 rows × 1 columns</p>\n",
              "</div>"
            ],
            "text/plain": [
              "                                                 Tweet\n",
              "0    last night , refreshing see actual next year ,...\n",
              "1    joe biden disrespectful president obama night ...\n",
              "2    i 've seen way much video trump night , one pl...\n",
              "3            why n't hunterbiden night support dad ? 🤔\n",
              "4    just ​month , ​ donald trump stood a​ stage ​a...\n",
              "..                                                 ...\n",
              "903  on today 's episode , stop discuss night 's mi...\n",
              "904  “ donald trump 's sedate performance thursday ...\n",
              "905                                     who night 's ?\n",
              "906  i 've seen way much video trump night , one pl...\n",
              "907  joe biden disrespectful president obama night ...\n",
              "\n",
              "[908 rows x 1 columns]"
            ]
          },
          "metadata": {
            "tags": []
          },
          "execution_count": 78
        }
      ]
    },
    {
      "cell_type": "code",
      "metadata": {
        "id": "dVFr451Tvmeh"
      },
      "source": [
        "#remove duplicates in our dataframe since many tweets are retweeted \n",
        "df_tweet = df_tweet.drop_duplicates(subset=['Tweet'], keep=\"last\")\n"
      ],
      "execution_count": 79,
      "outputs": []
    },
    {
      "cell_type": "code",
      "metadata": {
        "id": "2Sx0lGPdvm7F",
        "outputId": "a55db6f5-5eee-40d5-a6b3-7b91c5584d90",
        "colab": {
          "base_uri": "https://localhost:8080/",
          "height": 470
        }
      },
      "source": [
        "df_tweet.count"
      ],
      "execution_count": 80,
      "outputs": [
        {
          "output_type": "execute_result",
          "data": {
            "text/plain": [
              "<bound method DataFrame.count of                                                  Tweet\n",
              "374  one thing i think people fail focus night ’ bi...\n",
              "428  _pettigrew if want know whether ’ veered towar...\n",
              "589  so wants know think nights ? and feed insatiab...\n",
              "854  last night ’ gave lot fact check here ’ truth ...\n",
              "857  it kind amazing trump pretended time wants rai...\n",
              "858  last night really good craziest part trump ask...\n",
              "865  this picture taken night ’ it clearly shows ne...\n",
              "866  the president , per usual , spent lot time tra...\n",
              "871  just ​month , ​ donald trump stood a​ stage ​a...\n",
              "874  not long ago , donald trump set nielsen record...\n",
              "876  we survived now let ’ vote , continue larger w...\n",
              "877  kentucky bottom 5 states almost every measurab...\n",
              "882  the character country ballot last night ’ show...\n",
              "883  watch tonight 's `` securing america '' via co...\n",
              "884  hey new york times , article fact checks night...\n",
              "889          why n't hunterbiden night support dad ? 🤔\n",
              "894  last night , refreshing see actual next year ,...\n",
              "896  this prediction election the man saw night ’ s...\n",
              "897  new video the analysis need , simply quotes mo...\n",
              "901  post i thought strong night stark differences ...\n",
              "902  so needed four days prepare today drove blocks...\n",
              "903  on today 's episode , stop discuss night 's mi...\n",
              "904  “ donald trump 's sedate performance thursday ...\n",
              "905                                     who night 's ?\n",
              "906  i 've seen way much video trump night , one pl...\n",
              "907  joe biden disrespectful president obama night ...>"
            ]
          },
          "metadata": {
            "tags": []
          },
          "execution_count": 80
        }
      ]
    },
    {
      "cell_type": "code",
      "metadata": {
        "id": "fQx40IV-vm3w"
      },
      "source": [
        "#Use Sentiment analysis by either of the below methods\n",
        "# a)NLTK SentimentIntensityAnalyzer \n",
        "# b)NLTK TExtBlob\n",
        "from textblob import TextBlob"
      ],
      "execution_count": 81,
      "outputs": []
    },
    {
      "cell_type": "markdown",
      "metadata": {
        "id": "5gf_1LeMgA9K"
      },
      "source": [
        "#Identifying Sentiment type\n",
        "overall reaction, it can be positive, negative or neutral."
      ]
    },
    {
      "cell_type": "code",
      "metadata": {
        "id": "dXmXtjyfvmbF"
      },
      "source": [
        "\n",
        "def subjectivity(text):\n",
        "  return TextBlob(text).sentiment.subjectivity\n",
        "\n",
        "def polarity(text):\n",
        "  return TextBlob(text).sentiment.polarity"
      ],
      "execution_count": 82,
      "outputs": []
    },
    {
      "cell_type": "code",
      "metadata": {
        "id": "7kienRb5fVCg",
        "outputId": "9f5b0e7f-c0d1-4035-bedb-f87f4951ed90",
        "colab": {
          "base_uri": "https://localhost:8080/",
          "height": 218
        }
      },
      "source": [
        "df_tweet['Subjectivity'] = df_tweet['Tweet'].apply(subjectivity)\n",
        "df_tweet['Polarity'] = df_tweet['Tweet'].apply(polarity)"
      ],
      "execution_count": 83,
      "outputs": [
        {
          "output_type": "stream",
          "text": [
            "/usr/local/lib/python3.6/dist-packages/ipykernel_launcher.py:1: SettingWithCopyWarning: \n",
            "A value is trying to be set on a copy of a slice from a DataFrame.\n",
            "Try using .loc[row_indexer,col_indexer] = value instead\n",
            "\n",
            "See the caveats in the documentation: https://pandas.pydata.org/pandas-docs/stable/user_guide/indexing.html#returning-a-view-versus-a-copy\n",
            "  \"\"\"Entry point for launching an IPython kernel.\n",
            "/usr/local/lib/python3.6/dist-packages/ipykernel_launcher.py:2: SettingWithCopyWarning: \n",
            "A value is trying to be set on a copy of a slice from a DataFrame.\n",
            "Try using .loc[row_indexer,col_indexer] = value instead\n",
            "\n",
            "See the caveats in the documentation: https://pandas.pydata.org/pandas-docs/stable/user_guide/indexing.html#returning-a-view-versus-a-copy\n",
            "  \n"
          ],
          "name": "stderr"
        }
      ]
    },
    {
      "cell_type": "code",
      "metadata": {
        "id": "yLYfUg96fVLb",
        "outputId": "51078b74-856b-4eb1-84f3-24253b41b31a",
        "colab": {
          "base_uri": "https://localhost:8080/",
          "height": 195
        }
      },
      "source": [
        "df_tweet.head()"
      ],
      "execution_count": 84,
      "outputs": [
        {
          "output_type": "execute_result",
          "data": {
            "text/html": [
              "<div>\n",
              "<style scoped>\n",
              "    .dataframe tbody tr th:only-of-type {\n",
              "        vertical-align: middle;\n",
              "    }\n",
              "\n",
              "    .dataframe tbody tr th {\n",
              "        vertical-align: top;\n",
              "    }\n",
              "\n",
              "    .dataframe thead th {\n",
              "        text-align: right;\n",
              "    }\n",
              "</style>\n",
              "<table border=\"1\" class=\"dataframe\">\n",
              "  <thead>\n",
              "    <tr style=\"text-align: right;\">\n",
              "      <th></th>\n",
              "      <th>Tweet</th>\n",
              "      <th>Subjectivity</th>\n",
              "      <th>Polarity</th>\n",
              "    </tr>\n",
              "  </thead>\n",
              "  <tbody>\n",
              "    <tr>\n",
              "      <th>374</th>\n",
              "      <td>one thing i think people fail focus night ’ bi...</td>\n",
              "      <td>0.300000</td>\n",
              "      <td>-0.500000</td>\n",
              "    </tr>\n",
              "    <tr>\n",
              "      <th>428</th>\n",
              "      <td>_pettigrew if want know whether ’ veered towar...</td>\n",
              "      <td>0.535714</td>\n",
              "      <td>0.285714</td>\n",
              "    </tr>\n",
              "    <tr>\n",
              "      <th>589</th>\n",
              "      <td>so wants know think nights ? and feed insatiab...</td>\n",
              "      <td>0.100000</td>\n",
              "      <td>0.200000</td>\n",
              "    </tr>\n",
              "    <tr>\n",
              "      <th>854</th>\n",
              "      <td>last night ’ gave lot fact check here ’ truth ...</td>\n",
              "      <td>0.066667</td>\n",
              "      <td>0.000000</td>\n",
              "    </tr>\n",
              "    <tr>\n",
              "      <th>857</th>\n",
              "      <td>it kind amazing trump pretended time wants rai...</td>\n",
              "      <td>0.633333</td>\n",
              "      <td>0.466667</td>\n",
              "    </tr>\n",
              "  </tbody>\n",
              "</table>\n",
              "</div>"
            ],
            "text/plain": [
              "                                                 Tweet  Subjectivity  Polarity\n",
              "374  one thing i think people fail focus night ’ bi...      0.300000 -0.500000\n",
              "428  _pettigrew if want know whether ’ veered towar...      0.535714  0.285714\n",
              "589  so wants know think nights ? and feed insatiab...      0.100000  0.200000\n",
              "854  last night ’ gave lot fact check here ’ truth ...      0.066667  0.000000\n",
              "857  it kind amazing trump pretended time wants rai...      0.633333  0.466667"
            ]
          },
          "metadata": {
            "tags": []
          },
          "execution_count": 84
        }
      ]
    },
    {
      "cell_type": "code",
      "metadata": {
        "id": "d5rcxD4wfVID"
      },
      "source": [
        "import nltk\n",
        "from nltk.sentiment.vader import SentimentIntensityAnalyzer\n",
        "from textblob import TextBlob\n",
        "\n",
        "#sentiment analysis with  VADER (Valence Aware Dictionary and sEntiment Reasoner)\n",
        "def sentiment_using_Analyzer(text):\n",
        "    s = SentimentIntensityAnalyzer()\n",
        "    polarity_scores = s.polarity_scores(text)\n",
        "    if polarity_scores['neg'] > polarity_scores['pos']:\n",
        "        return 'negative'\n",
        "    else:\n",
        "        return 'positive'\n",
        "#sentiment analysis with  TextBlob\n",
        "def sentiment_using_textblob(text):\n",
        "    analysis = TextBlob(text)\n",
        "    if analysis.sentiment.polarity >= 0:\n",
        "        return 'positive'\n",
        "    else: \n",
        "        return 'negative'"
      ],
      "execution_count": 85,
      "outputs": []
    },
    {
      "cell_type": "markdown",
      "metadata": {
        "id": "yTAqugA9iPgn"
      },
      "source": [
        "Visualize Using Word Cloud\n"
      ]
    },
    {
      "cell_type": "code",
      "metadata": {
        "id": "_2Evs96OgtUg"
      },
      "source": [
        "from wordcloud import WordCloud\n",
        "import nltk\n",
        "import matplotlib.pyplot as plt"
      ],
      "execution_count": 86,
      "outputs": []
    },
    {
      "cell_type": "code",
      "metadata": {
        "id": "8YBTFG6Qiic2"
      },
      "source": [
        "all_words = ' '.join(w for w in df_tweet['Tweet'])"
      ],
      "execution_count": 87,
      "outputs": []
    },
    {
      "cell_type": "code",
      "metadata": {
        "id": "VMpVbIGPgtRb"
      },
      "source": [
        "wordCloud = WordCloud(width = 500,height = 300 , random_state = 21 ,max_words=40, max_font_size = 119).generate(all_words)"
      ],
      "execution_count": 88,
      "outputs": []
    },
    {
      "cell_type": "code",
      "metadata": {
        "id": "IidcdhiJfU_F",
        "outputId": "14a23c30-371b-441f-cc21-0f0cf13e0924",
        "colab": {
          "base_uri": "https://localhost:8080/",
          "height": 232
        }
      },
      "source": [
        "plt.imshow(wordCloud,interpolation=\"bilinear\")\n",
        "plt.axis('off')\n",
        "plt.show()"
      ],
      "execution_count": 89,
      "outputs": [
        {
          "output_type": "display_data",
          "data": {
            "image/png": "[encoded data removed]",
            "text/plain": [
              "<Figure size 432x288 with 1 Axes>"
            ]
          },
          "metadata": {
            "tags": [],
            "needs_background": "light"
          }
        }
      ]
    },
    {
      "cell_type": "code",
      "metadata": {
        "id": "O_hmhALKixCO"
      },
      "source": [
        "## Add Analysis column based on Sentiment for each tweet \n",
        "def getAnalysis(score):\n",
        "  if score < 0:\n",
        "    return 'Negative'\n",
        "  elif score ==0:\n",
        "    return 'Neutral'\n",
        "  else:\n",
        "    return 'Positive'"
      ],
      "execution_count": 91,
      "outputs": []
    },
    {
      "cell_type": "code",
      "metadata": {
        "id": "VQwGFJvgixNE",
        "outputId": "6e3d9f21-522e-4920-f25d-33f8f6ca5b29",
        "colab": {
          "base_uri": "https://localhost:8080/",
          "height": 118
        }
      },
      "source": [
        "df_tweet['Analysis'] = df_tweet['Polarity'].apply(getAnalysis)"
      ],
      "execution_count": 92,
      "outputs": [
        {
          "output_type": "stream",
          "text": [
            "/usr/local/lib/python3.6/dist-packages/ipykernel_launcher.py:1: SettingWithCopyWarning: \n",
            "A value is trying to be set on a copy of a slice from a DataFrame.\n",
            "Try using .loc[row_indexer,col_indexer] = value instead\n",
            "\n",
            "See the caveats in the documentation: https://pandas.pydata.org/pandas-docs/stable/user_guide/indexing.html#returning-a-view-versus-a-copy\n",
            "  \"\"\"Entry point for launching an IPython kernel.\n"
          ],
          "name": "stderr"
        }
      ]
    },
    {
      "cell_type": "code",
      "metadata": {
        "id": "oLTCAfxmixHe",
        "outputId": "672442ed-262e-4c52-cccf-ce5141ff6f95",
        "colab": {
          "base_uri": "https://localhost:8080/",
          "height": 817
        }
      },
      "source": [
        "df_tweet"
      ],
      "execution_count": 93,
      "outputs": [
        {
          "output_type": "execute_result",
          "data": {
            "text/html": [
              "<div>\n",
              "<style scoped>\n",
              "    .dataframe tbody tr th:only-of-type {\n",
              "        vertical-align: middle;\n",
              "    }\n",
              "\n",
              "    .dataframe tbody tr th {\n",
              "        vertical-align: top;\n",
              "    }\n",
              "\n",
              "    .dataframe thead th {\n",
              "        text-align: right;\n",
              "    }\n",
              "</style>\n",
              "<table border=\"1\" class=\"dataframe\">\n",
              "  <thead>\n",
              "    <tr style=\"text-align: right;\">\n",
              "      <th></th>\n",
              "      <th>Tweet</th>\n",
              "      <th>Subjectivity</th>\n",
              "      <th>Polarity</th>\n",
              "      <th>Analysis</th>\n",
              "    </tr>\n",
              "  </thead>\n",
              "  <tbody>\n",
              "    <tr>\n",
              "      <th>374</th>\n",
              "      <td>one thing i think people fail focus night ’ bi...</td>\n",
              "      <td>0.300000</td>\n",
              "      <td>-0.500000</td>\n",
              "      <td>Negative</td>\n",
              "    </tr>\n",
              "    <tr>\n",
              "      <th>428</th>\n",
              "      <td>_pettigrew if want know whether ’ veered towar...</td>\n",
              "      <td>0.535714</td>\n",
              "      <td>0.285714</td>\n",
              "      <td>Positive</td>\n",
              "    </tr>\n",
              "    <tr>\n",
              "      <th>589</th>\n",
              "      <td>so wants know think nights ? and feed insatiab...</td>\n",
              "      <td>0.100000</td>\n",
              "      <td>0.200000</td>\n",
              "      <td>Positive</td>\n",
              "    </tr>\n",
              "    <tr>\n",
              "      <th>854</th>\n",
              "      <td>last night ’ gave lot fact check here ’ truth ...</td>\n",
              "      <td>0.066667</td>\n",
              "      <td>0.000000</td>\n",
              "      <td>Neutral</td>\n",
              "    </tr>\n",
              "    <tr>\n",
              "      <th>857</th>\n",
              "      <td>it kind amazing trump pretended time wants rai...</td>\n",
              "      <td>0.633333</td>\n",
              "      <td>0.466667</td>\n",
              "      <td>Positive</td>\n",
              "    </tr>\n",
              "    <tr>\n",
              "      <th>858</th>\n",
              "      <td>last night really good craziest part trump ask...</td>\n",
              "      <td>0.333333</td>\n",
              "      <td>0.350000</td>\n",
              "      <td>Positive</td>\n",
              "    </tr>\n",
              "    <tr>\n",
              "      <th>865</th>\n",
              "      <td>this picture taken night ’ it clearly shows ne...</td>\n",
              "      <td>0.691667</td>\n",
              "      <td>0.050000</td>\n",
              "      <td>Positive</td>\n",
              "    </tr>\n",
              "    <tr>\n",
              "      <th>866</th>\n",
              "      <td>the president , per usual , spent lot time tra...</td>\n",
              "      <td>0.250000</td>\n",
              "      <td>-0.050000</td>\n",
              "      <td>Negative</td>\n",
              "    </tr>\n",
              "    <tr>\n",
              "      <th>871</th>\n",
              "      <td>just ​month , ​ donald trump stood a​ stage ​a...</td>\n",
              "      <td>0.000000</td>\n",
              "      <td>0.000000</td>\n",
              "      <td>Neutral</td>\n",
              "    </tr>\n",
              "    <tr>\n",
              "      <th>874</th>\n",
              "      <td>not long ago , donald trump set nielsen record...</td>\n",
              "      <td>0.233333</td>\n",
              "      <td>0.012500</td>\n",
              "      <td>Positive</td>\n",
              "    </tr>\n",
              "    <tr>\n",
              "      <th>876</th>\n",
              "      <td>we survived now let ’ vote , continue larger w...</td>\n",
              "      <td>0.500000</td>\n",
              "      <td>0.000000</td>\n",
              "      <td>Neutral</td>\n",
              "    </tr>\n",
              "    <tr>\n",
              "      <th>877</th>\n",
              "      <td>kentucky bottom 5 states almost every measurab...</td>\n",
              "      <td>0.200000</td>\n",
              "      <td>0.200000</td>\n",
              "      <td>Positive</td>\n",
              "    </tr>\n",
              "    <tr>\n",
              "      <th>882</th>\n",
              "      <td>the character country ballot last night ’ show...</td>\n",
              "      <td>0.225000</td>\n",
              "      <td>0.050000</td>\n",
              "      <td>Positive</td>\n",
              "    </tr>\n",
              "    <tr>\n",
              "      <th>883</th>\n",
              "      <td>watch tonight 's `` securing america '' via co...</td>\n",
              "      <td>0.000000</td>\n",
              "      <td>0.000000</td>\n",
              "      <td>Neutral</td>\n",
              "    </tr>\n",
              "    <tr>\n",
              "      <th>884</th>\n",
              "      <td>hey new york times , article fact checks night...</td>\n",
              "      <td>0.454545</td>\n",
              "      <td>0.136364</td>\n",
              "      <td>Positive</td>\n",
              "    </tr>\n",
              "    <tr>\n",
              "      <th>889</th>\n",
              "      <td>why n't hunterbiden night support dad ? 🤔</td>\n",
              "      <td>0.000000</td>\n",
              "      <td>0.000000</td>\n",
              "      <td>Neutral</td>\n",
              "    </tr>\n",
              "    <tr>\n",
              "      <th>894</th>\n",
              "      <td>last night , refreshing see actual next year ,...</td>\n",
              "      <td>0.377778</td>\n",
              "      <td>0.166667</td>\n",
              "      <td>Positive</td>\n",
              "    </tr>\n",
              "    <tr>\n",
              "      <th>896</th>\n",
              "      <td>this prediction election the man saw night ’ s...</td>\n",
              "      <td>1.000000</td>\n",
              "      <td>0.000000</td>\n",
              "      <td>Neutral</td>\n",
              "    </tr>\n",
              "    <tr>\n",
              "      <th>897</th>\n",
              "      <td>new video the analysis need , simply quotes mo...</td>\n",
              "      <td>0.405844</td>\n",
              "      <td>0.068182</td>\n",
              "      <td>Positive</td>\n",
              "    </tr>\n",
              "    <tr>\n",
              "      <th>901</th>\n",
              "      <td>post i thought strong night stark differences ...</td>\n",
              "      <td>0.711111</td>\n",
              "      <td>0.211111</td>\n",
              "      <td>Positive</td>\n",
              "    </tr>\n",
              "    <tr>\n",
              "      <th>902</th>\n",
              "      <td>so needed four days prepare today drove blocks...</td>\n",
              "      <td>0.000000</td>\n",
              "      <td>0.000000</td>\n",
              "      <td>Neutral</td>\n",
              "    </tr>\n",
              "    <tr>\n",
              "      <th>903</th>\n",
              "      <td>on today 's episode , stop discuss night 's mi...</td>\n",
              "      <td>0.000000</td>\n",
              "      <td>0.000000</td>\n",
              "      <td>Neutral</td>\n",
              "    </tr>\n",
              "    <tr>\n",
              "      <th>904</th>\n",
              "      <td>“ donald trump 's sedate performance thursday ...</td>\n",
              "      <td>0.000000</td>\n",
              "      <td>0.000000</td>\n",
              "      <td>Neutral</td>\n",
              "    </tr>\n",
              "    <tr>\n",
              "      <th>905</th>\n",
              "      <td>who night 's ?</td>\n",
              "      <td>0.000000</td>\n",
              "      <td>0.000000</td>\n",
              "      <td>Neutral</td>\n",
              "    </tr>\n",
              "    <tr>\n",
              "      <th>906</th>\n",
              "      <td>i 've seen way much video trump night , one pl...</td>\n",
              "      <td>0.400000</td>\n",
              "      <td>0.450000</td>\n",
              "      <td>Positive</td>\n",
              "    </tr>\n",
              "    <tr>\n",
              "      <th>907</th>\n",
              "      <td>joe biden disrespectful president obama night ...</td>\n",
              "      <td>0.000000</td>\n",
              "      <td>0.000000</td>\n",
              "      <td>Neutral</td>\n",
              "    </tr>\n",
              "  </tbody>\n",
              "</table>\n",
              "</div>"
            ],
            "text/plain": [
              "                                                 Tweet  ...  Analysis\n",
              "374  one thing i think people fail focus night ’ bi...  ...  Negative\n",
              "428  _pettigrew if want know whether ’ veered towar...  ...  Positive\n",
              "589  so wants know think nights ? and feed insatiab...  ...  Positive\n",
              "854  last night ’ gave lot fact check here ’ truth ...  ...   Neutral\n",
              "857  it kind amazing trump pretended time wants rai...  ...  Positive\n",
              "858  last night really good craziest part trump ask...  ...  Positive\n",
              "865  this picture taken night ’ it clearly shows ne...  ...  Positive\n",
              "866  the president , per usual , spent lot time tra...  ...  Negative\n",
              "871  just ​month , ​ donald trump stood a​ stage ​a...  ...   Neutral\n",
              "874  not long ago , donald trump set nielsen record...  ...  Positive\n",
              "876  we survived now let ’ vote , continue larger w...  ...   Neutral\n",
              "877  kentucky bottom 5 states almost every measurab...  ...  Positive\n",
              "882  the character country ballot last night ’ show...  ...  Positive\n",
              "883  watch tonight 's `` securing america '' via co...  ...   Neutral\n",
              "884  hey new york times , article fact checks night...  ...  Positive\n",
              "889          why n't hunterbiden night support dad ? 🤔  ...   Neutral\n",
              "894  last night , refreshing see actual next year ,...  ...  Positive\n",
              "896  this prediction election the man saw night ’ s...  ...   Neutral\n",
              "897  new video the analysis need , simply quotes mo...  ...  Positive\n",
              "901  post i thought strong night stark differences ...  ...  Positive\n",
              "902  so needed four days prepare today drove blocks...  ...   Neutral\n",
              "903  on today 's episode , stop discuss night 's mi...  ...   Neutral\n",
              "904  “ donald trump 's sedate performance thursday ...  ...   Neutral\n",
              "905                                     who night 's ?  ...   Neutral\n",
              "906  i 've seen way much video trump night , one pl...  ...  Positive\n",
              "907  joe biden disrespectful president obama night ...  ...   Neutral\n",
              "\n",
              "[26 rows x 4 columns]"
            ]
          },
          "metadata": {
            "tags": []
          },
          "execution_count": 93
        }
      ]
    },
    {
      "cell_type": "code",
      "metadata": {
        "id": "xPGVKnrEj_bu",
        "outputId": "77bdfed7-d802-40b9-8199-869431292147",
        "colab": {
          "base_uri": "https://localhost:8080/",
          "height": 504
        }
      },
      "source": [
        "#Sort Tweets wrt Polarity\n",
        "df_sorted = df_tweet.sort_values(by=['Polarity'])\n",
        "\n",
        "print(df_sorted)\n"
      ],
      "execution_count": 94,
      "outputs": [
        {
          "output_type": "stream",
          "text": [
            "                                                 Tweet  ...  Analysis\n",
            "374  one thing i think people fail focus night ’ bi...  ...  Negative\n",
            "866  the president , per usual , spent lot time tra...  ...  Negative\n",
            "905                                     who night 's ?  ...   Neutral\n",
            "904  “ donald trump 's sedate performance thursday ...  ...   Neutral\n",
            "903  on today 's episode , stop discuss night 's mi...  ...   Neutral\n",
            "902  so needed four days prepare today drove blocks...  ...   Neutral\n",
            "896  this prediction election the man saw night ’ s...  ...   Neutral\n",
            "889          why n't hunterbiden night support dad ? 🤔  ...   Neutral\n",
            "883  watch tonight 's `` securing america '' via co...  ...   Neutral\n",
            "876  we survived now let ’ vote , continue larger w...  ...   Neutral\n",
            "907  joe biden disrespectful president obama night ...  ...   Neutral\n",
            "871  just ​month , ​ donald trump stood a​ stage ​a...  ...   Neutral\n",
            "854  last night ’ gave lot fact check here ’ truth ...  ...   Neutral\n",
            "874  not long ago , donald trump set nielsen record...  ...  Positive\n",
            "865  this picture taken night ’ it clearly shows ne...  ...  Positive\n",
            "882  the character country ballot last night ’ show...  ...  Positive\n",
            "897  new video the analysis need , simply quotes mo...  ...  Positive\n",
            "884  hey new york times , article fact checks night...  ...  Positive\n",
            "894  last night , refreshing see actual next year ,...  ...  Positive\n",
            "877  kentucky bottom 5 states almost every measurab...  ...  Positive\n",
            "589  so wants know think nights ? and feed insatiab...  ...  Positive\n",
            "901  post i thought strong night stark differences ...  ...  Positive\n",
            "428  _pettigrew if want know whether ’ veered towar...  ...  Positive\n",
            "858  last night really good craziest part trump ask...  ...  Positive\n",
            "906  i 've seen way much video trump night , one pl...  ...  Positive\n",
            "857  it kind amazing trump pretended time wants rai...  ...  Positive\n",
            "\n",
            "[26 rows x 4 columns]\n"
          ],
          "name": "stdout"
        }
      ]
    },
    {
      "cell_type": "code",
      "metadata": {
        "id": "23tQ-qKMnyVN"
      },
      "source": [
        "df_sorted = df_sorted.reset_index(drop = 'true')"
      ],
      "execution_count": 95,
      "outputs": []
    },
    {
      "cell_type": "code",
      "metadata": {
        "id": "2foFmz2moFka",
        "outputId": "c6c74023-042c-4cde-e45e-fde988b7c2b4",
        "colab": {
          "base_uri": "https://localhost:8080/",
          "height": 817
        }
      },
      "source": [
        "df_sorted"
      ],
      "execution_count": 96,
      "outputs": [
        {
          "output_type": "execute_result",
          "data": {
            "text/html": [
              "<div>\n",
              "<style scoped>\n",
              "    .dataframe tbody tr th:only-of-type {\n",
              "        vertical-align: middle;\n",
              "    }\n",
              "\n",
              "    .dataframe tbody tr th {\n",
              "        vertical-align: top;\n",
              "    }\n",
              "\n",
              "    .dataframe thead th {\n",
              "        text-align: right;\n",
              "    }\n",
              "</style>\n",
              "<table border=\"1\" class=\"dataframe\">\n",
              "  <thead>\n",
              "    <tr style=\"text-align: right;\">\n",
              "      <th></th>\n",
              "      <th>Tweet</th>\n",
              "      <th>Subjectivity</th>\n",
              "      <th>Polarity</th>\n",
              "      <th>Analysis</th>\n",
              "    </tr>\n",
              "  </thead>\n",
              "  <tbody>\n",
              "    <tr>\n",
              "      <th>0</th>\n",
              "      <td>one thing i think people fail focus night ’ bi...</td>\n",
              "      <td>0.300000</td>\n",
              "      <td>-0.500000</td>\n",
              "      <td>Negative</td>\n",
              "    </tr>\n",
              "    <tr>\n",
              "      <th>1</th>\n",
              "      <td>the president , per usual , spent lot time tra...</td>\n",
              "      <td>0.250000</td>\n",
              "      <td>-0.050000</td>\n",
              "      <td>Negative</td>\n",
              "    </tr>\n",
              "    <tr>\n",
              "      <th>2</th>\n",
              "      <td>who night 's ?</td>\n",
              "      <td>0.000000</td>\n",
              "      <td>0.000000</td>\n",
              "      <td>Neutral</td>\n",
              "    </tr>\n",
              "    <tr>\n",
              "      <th>3</th>\n",
              "      <td>“ donald trump 's sedate performance thursday ...</td>\n",
              "      <td>0.000000</td>\n",
              "      <td>0.000000</td>\n",
              "      <td>Neutral</td>\n",
              "    </tr>\n",
              "    <tr>\n",
              "      <th>4</th>\n",
              "      <td>on today 's episode , stop discuss night 's mi...</td>\n",
              "      <td>0.000000</td>\n",
              "      <td>0.000000</td>\n",
              "      <td>Neutral</td>\n",
              "    </tr>\n",
              "    <tr>\n",
              "      <th>5</th>\n",
              "      <td>so needed four days prepare today drove blocks...</td>\n",
              "      <td>0.000000</td>\n",
              "      <td>0.000000</td>\n",
              "      <td>Neutral</td>\n",
              "    </tr>\n",
              "    <tr>\n",
              "      <th>6</th>\n",
              "      <td>this prediction election the man saw night ’ s...</td>\n",
              "      <td>1.000000</td>\n",
              "      <td>0.000000</td>\n",
              "      <td>Neutral</td>\n",
              "    </tr>\n",
              "    <tr>\n",
              "      <th>7</th>\n",
              "      <td>why n't hunterbiden night support dad ? 🤔</td>\n",
              "      <td>0.000000</td>\n",
              "      <td>0.000000</td>\n",
              "      <td>Neutral</td>\n",
              "    </tr>\n",
              "    <tr>\n",
              "      <th>8</th>\n",
              "      <td>watch tonight 's `` securing america '' via co...</td>\n",
              "      <td>0.000000</td>\n",
              "      <td>0.000000</td>\n",
              "      <td>Neutral</td>\n",
              "    </tr>\n",
              "    <tr>\n",
              "      <th>9</th>\n",
              "      <td>we survived now let ’ vote , continue larger w...</td>\n",
              "      <td>0.500000</td>\n",
              "      <td>0.000000</td>\n",
              "      <td>Neutral</td>\n",
              "    </tr>\n",
              "    <tr>\n",
              "      <th>10</th>\n",
              "      <td>joe biden disrespectful president obama night ...</td>\n",
              "      <td>0.000000</td>\n",
              "      <td>0.000000</td>\n",
              "      <td>Neutral</td>\n",
              "    </tr>\n",
              "    <tr>\n",
              "      <th>11</th>\n",
              "      <td>just ​month , ​ donald trump stood a​ stage ​a...</td>\n",
              "      <td>0.000000</td>\n",
              "      <td>0.000000</td>\n",
              "      <td>Neutral</td>\n",
              "    </tr>\n",
              "    <tr>\n",
              "      <th>12</th>\n",
              "      <td>last night ’ gave lot fact check here ’ truth ...</td>\n",
              "      <td>0.066667</td>\n",
              "      <td>0.000000</td>\n",
              "      <td>Neutral</td>\n",
              "    </tr>\n",
              "    <tr>\n",
              "      <th>13</th>\n",
              "      <td>not long ago , donald trump set nielsen record...</td>\n",
              "      <td>0.233333</td>\n",
              "      <td>0.012500</td>\n",
              "      <td>Positive</td>\n",
              "    </tr>\n",
              "    <tr>\n",
              "      <th>14</th>\n",
              "      <td>this picture taken night ’ it clearly shows ne...</td>\n",
              "      <td>0.691667</td>\n",
              "      <td>0.050000</td>\n",
              "      <td>Positive</td>\n",
              "    </tr>\n",
              "    <tr>\n",
              "      <th>15</th>\n",
              "      <td>the character country ballot last night ’ show...</td>\n",
              "      <td>0.225000</td>\n",
              "      <td>0.050000</td>\n",
              "      <td>Positive</td>\n",
              "    </tr>\n",
              "    <tr>\n",
              "      <th>16</th>\n",
              "      <td>new video the analysis need , simply quotes mo...</td>\n",
              "      <td>0.405844</td>\n",
              "      <td>0.068182</td>\n",
              "      <td>Positive</td>\n",
              "    </tr>\n",
              "    <tr>\n",
              "      <th>17</th>\n",
              "      <td>hey new york times , article fact checks night...</td>\n",
              "      <td>0.454545</td>\n",
              "      <td>0.136364</td>\n",
              "      <td>Positive</td>\n",
              "    </tr>\n",
              "    <tr>\n",
              "      <th>18</th>\n",
              "      <td>last night , refreshing see actual next year ,...</td>\n",
              "      <td>0.377778</td>\n",
              "      <td>0.166667</td>\n",
              "      <td>Positive</td>\n",
              "    </tr>\n",
              "    <tr>\n",
              "      <th>19</th>\n",
              "      <td>kentucky bottom 5 states almost every measurab...</td>\n",
              "      <td>0.200000</td>\n",
              "      <td>0.200000</td>\n",
              "      <td>Positive</td>\n",
              "    </tr>\n",
              "    <tr>\n",
              "      <th>20</th>\n",
              "      <td>so wants know think nights ? and feed insatiab...</td>\n",
              "      <td>0.100000</td>\n",
              "      <td>0.200000</td>\n",
              "      <td>Positive</td>\n",
              "    </tr>\n",
              "    <tr>\n",
              "      <th>21</th>\n",
              "      <td>post i thought strong night stark differences ...</td>\n",
              "      <td>0.711111</td>\n",
              "      <td>0.211111</td>\n",
              "      <td>Positive</td>\n",
              "    </tr>\n",
              "    <tr>\n",
              "      <th>22</th>\n",
              "      <td>_pettigrew if want know whether ’ veered towar...</td>\n",
              "      <td>0.535714</td>\n",
              "      <td>0.285714</td>\n",
              "      <td>Positive</td>\n",
              "    </tr>\n",
              "    <tr>\n",
              "      <th>23</th>\n",
              "      <td>last night really good craziest part trump ask...</td>\n",
              "      <td>0.333333</td>\n",
              "      <td>0.350000</td>\n",
              "      <td>Positive</td>\n",
              "    </tr>\n",
              "    <tr>\n",
              "      <th>24</th>\n",
              "      <td>i 've seen way much video trump night , one pl...</td>\n",
              "      <td>0.400000</td>\n",
              "      <td>0.450000</td>\n",
              "      <td>Positive</td>\n",
              "    </tr>\n",
              "    <tr>\n",
              "      <th>25</th>\n",
              "      <td>it kind amazing trump pretended time wants rai...</td>\n",
              "      <td>0.633333</td>\n",
              "      <td>0.466667</td>\n",
              "      <td>Positive</td>\n",
              "    </tr>\n",
              "  </tbody>\n",
              "</table>\n",
              "</div>"
            ],
            "text/plain": [
              "                                                Tweet  ...  Analysis\n",
              "0   one thing i think people fail focus night ’ bi...  ...  Negative\n",
              "1   the president , per usual , spent lot time tra...  ...  Negative\n",
              "2                                      who night 's ?  ...   Neutral\n",
              "3   “ donald trump 's sedate performance thursday ...  ...   Neutral\n",
              "4   on today 's episode , stop discuss night 's mi...  ...   Neutral\n",
              "5   so needed four days prepare today drove blocks...  ...   Neutral\n",
              "6   this prediction election the man saw night ’ s...  ...   Neutral\n",
              "7           why n't hunterbiden night support dad ? 🤔  ...   Neutral\n",
              "8   watch tonight 's `` securing america '' via co...  ...   Neutral\n",
              "9   we survived now let ’ vote , continue larger w...  ...   Neutral\n",
              "10  joe biden disrespectful president obama night ...  ...   Neutral\n",
              "11  just ​month , ​ donald trump stood a​ stage ​a...  ...   Neutral\n",
              "12  last night ’ gave lot fact check here ’ truth ...  ...   Neutral\n",
              "13  not long ago , donald trump set nielsen record...  ...  Positive\n",
              "14  this picture taken night ’ it clearly shows ne...  ...  Positive\n",
              "15  the character country ballot last night ’ show...  ...  Positive\n",
              "16  new video the analysis need , simply quotes mo...  ...  Positive\n",
              "17  hey new york times , article fact checks night...  ...  Positive\n",
              "18  last night , refreshing see actual next year ,...  ...  Positive\n",
              "19  kentucky bottom 5 states almost every measurab...  ...  Positive\n",
              "20  so wants know think nights ? and feed insatiab...  ...  Positive\n",
              "21  post i thought strong night stark differences ...  ...  Positive\n",
              "22  _pettigrew if want know whether ’ veered towar...  ...  Positive\n",
              "23  last night really good craziest part trump ask...  ...  Positive\n",
              "24  i 've seen way much video trump night , one pl...  ...  Positive\n",
              "25  it kind amazing trump pretended time wants rai...  ...  Positive\n",
              "\n",
              "[26 rows x 4 columns]"
            ]
          },
          "metadata": {
            "tags": []
          },
          "execution_count": 96
        }
      ]
    },
    {
      "cell_type": "code",
      "metadata": {
        "id": "OQ32AxcjldsH",
        "outputId": "1b2af496-d58c-4c56-afea-20f088fdbbbc",
        "colab": {
          "base_uri": "https://localhost:8080/",
          "height": 84
        }
      },
      "source": [
        "df_tweet['Analysis'].value_counts()"
      ],
      "execution_count": 97,
      "outputs": [
        {
          "output_type": "execute_result",
          "data": {
            "text/plain": [
              "Positive    13\n",
              "Neutral     11\n",
              "Negative     2\n",
              "Name: Analysis, dtype: int64"
            ]
          },
          "metadata": {
            "tags": []
          },
          "execution_count": 97
        }
      ]
    },
    {
      "cell_type": "code",
      "metadata": {
        "id": "B9SGGPV2j_Yn",
        "outputId": "1fd3ecfb-60f1-4ec5-9370-fcece625cef4",
        "colab": {
          "base_uri": "https://localhost:8080/",
          "height": 235
        }
      },
      "source": [
        "# Print Positive Tweets\n",
        "count = 1\n",
        "neg = 0\n",
        "pos = 0\n",
        "\n",
        "for i in range(0,df_sorted.shape[0]):\n",
        "  if df_sorted['Analysis'][i] == 'Positive':\n",
        "    print(str(count),' '+df_sorted['Tweet'][i])\n",
        "    pos +=1\n",
        "  else:\n",
        "    neg +=1\n",
        "  count +=1"
      ],
      "execution_count": 98,
      "outputs": [
        {
          "output_type": "stream",
          "text": [
            "14  not long ago , donald trump set nielsen records time stepped onto stage no last night 's ratings t…\n",
            "15  this picture taken night ’ it clearly shows need know vast differences t…\n",
            "16  the character country ballot last night ’ showed choice clear ev…\n",
            "17  new video the analysis need , simply quotes movie `` network '' “ well i ’ tell happened i…\n",
            "18  hey new york times , article fact checks night 's bit biased untruthful https//t…\n",
            "19  last night , refreshing see actual next year , would refreshing see actual presiden…\n",
            "20  kentucky bottom 5 states almost every measurable economic quality-of-life variable every clip i saw the…\n",
            "21  so wants know think nights ? and feed insatiable ego , dir…\n",
            "22  post i thought strong night stark differences biden trump free enterprise v…\n",
            "23  _pettigrew if want know whether ’ veered toward right decade terms considered ‘ reas…\n",
            "24  last night really good craziest part trump asked biden wanted get rid oil in…\n",
            "25  i 've seen way much video trump night , one playing part said `` good '' about…\n",
            "26  it kind amazing trump pretended time wants raise minimum wage if nothing else , l…\n"
          ],
          "name": "stdout"
        }
      ]
    },
    {
      "cell_type": "code",
      "metadata": {
        "id": "a9uPcnV-j_VJ",
        "outputId": "eda7e1a9-2867-438a-cff3-c4c4fa3ae9ab",
        "colab": {
          "base_uri": "https://localhost:8080/",
          "height": 421
        }
      },
      "source": [
        "#plot the polarity subjectivity\n",
        "plt.figure(figsize=(8,6))\n",
        "for i in range(0,df_tweet.shape[0]):\n",
        "  plt.scatter(df_sorted['Polarity'][i],df_sorted['Subjectivity'][i],color = 'blue')\n",
        "plt.title(\"'Sentiment Analysis\")\n",
        "plt.xlabel(\"Polarity\")\n",
        "plt.ylabel(\"Subjectivity\")"
      ],
      "execution_count": 99,
      "outputs": [
        {
          "output_type": "execute_result",
          "data": {
            "text/plain": [
              "Text(0, 0.5, 'Subjectivity')"
            ]
          },
          "metadata": {
            "tags": []
          },
          "execution_count": 99
        },
        {
          "output_type": "display_data",
          "data": {
            "image/png": "[encoded data removed]",
            "text/plain": [
              "<Figure size 576x432 with 1 Axes>"
            ]
          },
          "metadata": {
            "tags": [],
            "needs_background": "light"
          }
        }
      ]
    },
    {
      "cell_type": "code",
      "metadata": {
        "id": "v7oT-NiSj_SK"
      },
      "source": [
        ""
      ],
      "execution_count": null,
      "outputs": []
    },
    {
      "cell_type": "code",
      "metadata": {
        "id": "-rlR2A6Qj_Pg"
      },
      "source": [
        ""
      ],
      "execution_count": null,
      "outputs": []
    },
    {
      "cell_type": "code",
      "metadata": {
        "id": "2JJL-gH9iw_O"
      },
      "source": [
        ""
      ],
      "execution_count": null,
      "outputs": []
    }
  ]
}
